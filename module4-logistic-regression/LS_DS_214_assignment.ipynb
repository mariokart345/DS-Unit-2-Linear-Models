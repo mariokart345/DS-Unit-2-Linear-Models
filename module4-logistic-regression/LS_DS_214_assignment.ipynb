{
  "nbformat": 4,
  "nbformat_minor": 0,
  "metadata": {
    "kernelspec": {
      "display_name": "Python 3",
      "language": "python",
      "name": "python3"
    },
    "language_info": {
      "codemirror_mode": {
        "name": "ipython",
        "version": 3
      },
      "file_extension": ".py",
      "mimetype": "text/x-python",
      "name": "python",
      "nbconvert_exporter": "python",
      "pygments_lexer": "ipython3",
      "version": "3.7.3"
    },
    "colab": {
      "name": "LS_DS_214_assignment.ipynb",
      "provenance": [],
      "include_colab_link": true
    }
  },
  "cells": [
    {
      "cell_type": "markdown",
      "metadata": {
        "id": "view-in-github",
        "colab_type": "text"
      },
      "source": [
        "<a href=\"https://colab.research.google.com/github/mariokart345/DS-Unit-2-Linear-Models/blob/master/module4-logistic-regression/LS_DS_214_assignment.ipynb\" target=\"_parent\"><img src=\"https://colab.research.google.com/assets/colab-badge.svg\" alt=\"Open In Colab\"/></a>"
      ]
    },
    {
      "cell_type": "markdown",
      "metadata": {
        "id": "x1UU-GAQBBKx"
      },
      "source": [
        "Lambda School Data Science\n",
        "\n",
        "*Unit 2, Sprint 1, Module 4*\n",
        "\n",
        "---"
      ]
    },
    {
      "cell_type": "markdown",
      "metadata": {
        "id": "7IXUfiQ2UKj6"
      },
      "source": [
        "# Logistic Regression\n",
        "\n",
        "\n",
        "## Assignment 🌯\n",
        "\n",
        "You'll use a [**dataset of 400+ burrito reviews**](https://srcole.github.io/100burritos/). How accurately can you predict whether a burrito is rated 'Great'?\n",
        "\n",
        "> We have developed a 10-dimensional system for rating the burritos in San Diego. ... Generate models for what makes a burrito great and investigate correlations in its dimensions.\n",
        "\n",
        "- [ ] Do train/validate/test split. Train on reviews from 2016 & earlier. Validate on 2017. Test on 2018 & later.\n",
        "- [ ] Begin with baselines for classification.\n",
        "- [ ] Use scikit-learn for logistic regression.\n",
        "- [ ] Get your model's validation accuracy. (Multiple times if you try multiple iterations.)\n",
        "- [ ] Get your model's test accuracy. (One time, at the end.)\n",
        "- [ ] Commit your notebook to your fork of the GitHub repo.\n",
        "\n",
        "\n",
        "## Stretch Goals\n",
        "\n",
        "- [ ] Add your own stretch goal(s) !\n",
        "- [ ] Make exploratory visualizations.\n",
        "- [ ] Do one-hot encoding.\n",
        "- [ ] Do [feature scaling](https://scikit-learn.org/stable/modules/preprocessing.html).\n",
        "- [ ] Get and plot your coefficients.\n",
        "- [ ] Try [scikit-learn pipelines](https://scikit-learn.org/stable/modules/compose.html)."
      ]
    },
    {
      "cell_type": "code",
      "metadata": {
        "id": "o9eSnDYhUGD7"
      },
      "source": [
        "%%capture\n",
        "import sys\n",
        "\n",
        "# If you're on Colab:\n",
        "if 'google.colab' in sys.modules:\n",
        "    DATA_PATH = 'https://raw.githubusercontent.com/LambdaSchool/DS-Unit-2-Linear-Models/master/data/'\n",
        "    !pip install category_encoders==2.*\n",
        "\n",
        "# If you're working locally:\n",
        "else:\n",
        "    DATA_PATH = '../data/'"
      ],
      "execution_count": 1,
      "outputs": []
    },
    {
      "cell_type": "code",
      "metadata": {
        "id": "27dWzn6gBBK5"
      },
      "source": [
        "# Load data downloaded from https://srcole.github.io/100burritos/\n",
        "import pandas as pd\n",
        "df = pd.read_csv(DATA_PATH+'burritos/burritos.csv')"
      ],
      "execution_count": 2,
      "outputs": []
    },
    {
      "cell_type": "code",
      "metadata": {
        "id": "0lYmPKm1BBK5"
      },
      "source": [
        "# Derive binary classification target:\n",
        "# We define a 'Great' burrito as having an\n",
        "# overall rating of 4 or higher, on a 5 point scale.\n",
        "# Drop unrated burritos.\n",
        "df = df.dropna(subset=['overall'])\n",
        "df['Great'] = df['overall'] >= 4"
      ],
      "execution_count": 3,
      "outputs": []
    },
    {
      "cell_type": "code",
      "metadata": {
        "id": "297TMtuiBBK5"
      },
      "source": [
        "# Clean/combine the Burrito categories\n",
        "df['Burrito'] = df['Burrito'].str.lower()\n",
        "\n",
        "california = df['Burrito'].str.contains('california')\n",
        "asada = df['Burrito'].str.contains('asada')\n",
        "surf = df['Burrito'].str.contains('surf')\n",
        "carnitas = df['Burrito'].str.contains('carnitas')\n",
        "\n",
        "df.loc[california, 'Burrito'] = 'California'\n",
        "df.loc[asada, 'Burrito'] = 'Asada'\n",
        "df.loc[surf, 'Burrito'] = 'Surf & Turf'\n",
        "df.loc[carnitas, 'Burrito'] = 'Carnitas'\n",
        "df.loc[~california & ~asada & ~surf & ~carnitas, 'Burrito'] = 'Other'"
      ],
      "execution_count": 4,
      "outputs": []
    },
    {
      "cell_type": "code",
      "metadata": {
        "id": "NTuPuRQBBBK6"
      },
      "source": [
        "# Drop some high cardinality categoricals\n",
        "df = df.drop(columns=['Notes', 'Location', 'Reviewer', 'Address', 'URL', 'Neighborhood'])"
      ],
      "execution_count": 5,
      "outputs": []
    },
    {
      "cell_type": "code",
      "metadata": {
        "id": "bMwgXcS9BBK6"
      },
      "source": [
        "# Drop some columns to prevent \"leakage\"\n",
        "df = df.drop(columns=['Rec', 'overall'])"
      ],
      "execution_count": 6,
      "outputs": []
    },
    {
      "cell_type": "code",
      "metadata": {
        "id": "3w15cF1JUsPd"
      },
      "source": [
        "#Coverting NaNs for what is used for burritos to 0s and x to 1s\r\n",
        "import numpy as np\r\n",
        "df.iloc[:,21:58] = df.iloc[:,21:58].replace(np.nan, 0)\r\n",
        "df.iloc[:,21:58] = df.iloc[:,21:58].replace('x',1)\r\n",
        "df.iloc[:,21:58] = df.iloc[:,21:58].replace('X',1)\r\n",
        "#Doing the same for 'Chips'(Fixing the everloving errors before splitting them)\r\n",
        "df['Chips'] = df['Chips'].replace(np.nan, 0)\r\n",
        "df['Chips'] = df['Chips'].replace('x',1)\r\n",
        "df['Chips'] = df['Chips'].replace('X',1)\r\n",
        "df['Chips'] = df['Chips'].replace('No', 0)\r\n",
        "df['Chips'] = df['Chips'].replace('Yes',1)"
      ],
      "execution_count": 7,
      "outputs": []
    },
    {
      "cell_type": "code",
      "metadata": {
        "id": "8h4kmMT1BBK6"
      },
      "source": [
        "#Converting 'Date' from object to datetime\r\n",
        "df ['Date'] = pd.to_datetime(df['Date'],infer_datetime_format=True)\r\n",
        "#Splitting Dataframe into train/val/test dfs\r\n",
        "train = df[df['Date']<= '12/31/2016']\r\n",
        "val = df[(df['Date']>='1/1/2017')&(df['Date']<='12/31/2017')]\r\n",
        "test = df[df['Date']>= '1/1/2018']"
      ],
      "execution_count": 8,
      "outputs": []
    },
    {
      "cell_type": "code",
      "metadata": {
        "colab": {
          "base_uri": "https://localhost:8080/"
        },
        "id": "NLF3pIzJbxeP",
        "outputId": "935189b6-77e4-4f7b-f0c4-42326a1cd33b"
      },
      "source": [
        "#Baseline \r\n",
        "from sklearn.metrics import accuracy_score\r\n",
        "y_train = train['Great']\r\n",
        "y_val = val['Great']\r\n",
        "majority_class = y_train.mode()[0]\r\n",
        "y_pred = [majority_class] * len(y_train)\r\n",
        "print(f'Accuracy of Training:{accuracy_score(y_train,y_pred)}')\r\n",
        "y_pred = [majority_class]*len(y_val)\r\n",
        "print(f'Accuracy of Val:{accuracy_score(y_val, y_pred)}')"
      ],
      "execution_count": 9,
      "outputs": [
        {
          "output_type": "stream",
          "text": [
            "Accuracy of Training:0.5906040268456376\n",
            "Accuracy of Val:0.5529411764705883\n"
          ],
          "name": "stdout"
        }
      ]
    },
    {
      "cell_type": "code",
      "metadata": {
        "colab": {
          "base_uri": "https://localhost:8080/"
        },
        "id": "gi5SWvAGoPr9",
        "outputId": "8c638626-01f9-4f53-c3d3-db5c1925f42e"
      },
      "source": [
        "#Importing and setting up estimators,encoders,\r\n",
        "from sklearn.linear_model import LogisticRegression\r\n",
        "from sklearn.impute import SimpleImputer\r\n",
        "from category_encoders import OneHotEncoder\r\n",
        "from sklearn.feature_selection import SelectKBest\r\n",
        "encode = OneHotEncoder(use_cat_names=True,cols=['Burrito'])\r\n",
        "imputer = SimpleImputer()\r\n",
        "SKBest = SelectKBest(k=10)\r\n",
        "model = LogisticRegression(solver='lbfgs')"
      ],
      "execution_count": 10,
      "outputs": [
        {
          "output_type": "stream",
          "text": [
            "/usr/local/lib/python3.6/dist-packages/statsmodels/tools/_testing.py:19: FutureWarning: pandas.util.testing is deprecated. Use the functions in the public API at pandas.testing instead.\n",
            "  import pandas.util.testing as tm\n"
          ],
          "name": "stderr"
        }
      ]
    },
    {
      "cell_type": "code",
      "metadata": {
        "id": "tXxu8t91v7qt"
      },
      "source": [
        "#Dropping columns that cannot be processed\r\n",
        "X_train = train.drop(columns=['Great','Date','Mass (g)',\t'Density (g/mL)',\t'Length',\t'Circum',\t'Volume'])\r\n",
        "X_val = val.drop(columns=['Great','Date','Mass (g)',\t'Density (g/mL)',\t'Length',\t'Circum',\t'Volume'])"
      ],
      "execution_count": 11,
      "outputs": []
    },
    {
      "cell_type": "code",
      "metadata": {
        "colab": {
          "base_uri": "https://localhost:8080/"
        },
        "id": "fMkcPIo0ufpZ",
        "outputId": "8a081021-6789-43e5-eb22-0f6f45966c07"
      },
      "source": [
        "#Encoding,Imputing, and fitting dataframe for regression model\r\n",
        "X_train_encoded = encode.fit_transform(X_train)\r\n",
        "X_val_encoded = encode.transform(X_val)\r\n",
        "X_train_imputed = imputer.fit_transform(X_train_encoded)\r\n",
        "X_val_imputed = imputer.transform(X_val_encoded)\r\n",
        "X_train_skb = SKBest.fit_transform(X_train_imputed,y_train)\r\n",
        "X_val_skb = SKBest.transform(X_val_imputed)\r\n",
        "model.fit(X_train_skb,y_train)"
      ],
      "execution_count": 12,
      "outputs": [
        {
          "output_type": "stream",
          "text": [
            "/usr/local/lib/python3.6/dist-packages/category_encoders/utils.py:21: FutureWarning: is_categorical is deprecated and will be removed in a future version.  Use is_categorical_dtype instead\n",
            "  elif pd.api.types.is_categorical(cols):\n",
            "/usr/local/lib/python3.6/dist-packages/sklearn/feature_selection/_univariate_selection.py:114: UserWarning: Features [48] are constant.\n",
            "  UserWarning)\n",
            "/usr/local/lib/python3.6/dist-packages/sklearn/feature_selection/_univariate_selection.py:115: RuntimeWarning: invalid value encountered in true_divide\n",
            "  f = msb / msw\n"
          ],
          "name": "stderr"
        },
        {
          "output_type": "execute_result",
          "data": {
            "text/plain": [
              "LogisticRegression(C=1.0, class_weight=None, dual=False, fit_intercept=True,\n",
              "                   intercept_scaling=1, l1_ratio=None, max_iter=100,\n",
              "                   multi_class='auto', n_jobs=None, penalty='l2',\n",
              "                   random_state=None, solver='lbfgs', tol=0.0001, verbose=0,\n",
              "                   warm_start=False)"
            ]
          },
          "metadata": {
            "tags": []
          },
          "execution_count": 12
        }
      ]
    },
    {
      "cell_type": "code",
      "metadata": {
        "colab": {
          "base_uri": "https://localhost:8080/"
        },
        "id": "7OUvkuMJrJI2",
        "outputId": "3da87b01-d2d8-4dcd-da55-802c53ce4bb8"
      },
      "source": [
        "model.score(X_val_skb,y_val)"
      ],
      "execution_count": 14,
      "outputs": [
        {
          "output_type": "execute_result",
          "data": {
            "text/plain": [
              "0.8470588235294118"
            ]
          },
          "metadata": {
            "tags": []
          },
          "execution_count": 14
        }
      ]
    },
    {
      "cell_type": "code",
      "metadata": {
        "id": "XCa89tRN5J3T",
        "outputId": "f218fc88-63cf-4d31-b11c-95b49a36b379",
        "colab": {
          "base_uri": "https://localhost:8080/"
        }
      },
      "source": [
        "model.intercept_,model.coef_"
      ],
      "execution_count": 15,
      "outputs": [
        {
          "output_type": "execute_result",
          "data": {
            "text/plain": [
              "(array([-28.49244446]),\n",
              " array([[ 0.79787398,  0.68938057,  1.46425905,  1.39669262,  1.26741402,\n",
              "          0.04264891,  0.33105671,  1.69345748,  0.58834215, -1.00109906]]))"
            ]
          },
          "metadata": {
            "tags": []
          },
          "execution_count": 15
        }
      ]
    },
    {
      "cell_type": "code",
      "metadata": {
        "id": "tjIg2AVEteYI"
      },
      "source": [
        "#Doin the test\r\n",
        "y_test = test['Great']\r\n",
        "X_test = test.drop(columns=['Great','Date','Mass (g)',\t'Density (g/mL)',\t'Length',\t'Circum',\t'Volume'])\r\n",
        "X_test_encoded = encode.transform(X_test)\r\n",
        "X_test_imputed = imputer.transform(X_test_encoded)\r\n",
        "X_test_skb = SKBest.transform(X_test_imputed)"
      ],
      "execution_count": 18,
      "outputs": []
    },
    {
      "cell_type": "code",
      "metadata": {
        "id": "_yjl8T4v4uHP",
        "outputId": "0eec7bda-121f-41d5-c04f-0b86b9a6dacd",
        "colab": {
          "base_uri": "https://localhost:8080/"
        }
      },
      "source": [
        "model.predict(X_test_skb)"
      ],
      "execution_count": 19,
      "outputs": [
        {
          "output_type": "execute_result",
          "data": {
            "text/plain": [
              "array([ True,  True, False,  True, False, False,  True,  True,  True,\n",
              "        True, False, False,  True,  True,  True,  True,  True, False,\n",
              "       False, False, False,  True, False,  True,  True, False, False,\n",
              "        True,  True,  True, False,  True,  True, False,  True,  True,\n",
              "        True,  True])"
            ]
          },
          "metadata": {
            "tags": []
          },
          "execution_count": 19
        }
      ]
    },
    {
      "cell_type": "code",
      "metadata": {
        "id": "_ql07KZX41yX"
      },
      "source": [
        ""
      ],
      "execution_count": null,
      "outputs": []
    }
  ]
}